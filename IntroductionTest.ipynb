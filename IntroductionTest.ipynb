{
  "nbformat": 4,
  "nbformat_minor": 0,
  "metadata": {
    "colab": {
      "provenance": [],
      "authorship_tag": "ABX9TyNnIs2+JMGEflnMuoZTN1rG",
      "include_colab_link": true
    },
    "kernelspec": {
      "name": "python3",
      "display_name": "Python 3"
    },
    "language_info": {
      "name": "python"
    }
  },
  "cells": [
    {
      "cell_type": "markdown",
      "metadata": {
        "id": "view-in-github",
        "colab_type": "text"
      },
      "source": [
        "<a href=\"https://colab.research.google.com/github/alexander-toschev/mbzuai-course/blob/main/IntroductionTest.ipynb\" target=\"_parent\"><img src=\"https://colab.research.google.com/assets/colab-badge.svg\" alt=\"Open In Colab\"/></a>"
      ]
    },
    {
      "cell_type": "code",
      "execution_count": null,
      "metadata": {
        "id": "NK8qH7Jxr1Ik"
      },
      "outputs": [],
      "source": [
        "!pip install --upgrade gspread pandas google-auth\n",
        "\n",
        "import pandas as pd\n",
        "import gspread\n",
        "from google.colab import auth\n",
        "from google.auth import default\n",
        "from IPython.display import display\n",
        "import random\n",
        "\n",
        "# Authenticate and create the PyDrive client.\n",
        "auth.authenticate_user()\n",
        "creds, _ = default()\n",
        "gc = gspread.authorize(creds)\n",
        "\n",
        "# Open existing shared Google Spreadsheet\n",
        "SPREADSHEET_URL = \"https://docs.google.com/spreadsheets/d/1FBgCDCLg_-VUUqUsf1mQ5_j-bBhVZzSYXxGWpytQs4A/edit?gid=0#gid=0\"\n",
        "sh = gc.open_by_url(SPREADSHEET_URL)\n",
        "worksheet = sh.sheet1\n",
        "\n",
        "# Ensure header row exists\n",
        "if not worksheet.get_all_values():\n",
        "    worksheet.append_row([\"Student Name\", \"Score\"])\n",
        "\n",
        "# Get student name\n",
        "student_name = input(\"Enter your name: \")\n",
        "\n",
        "# Define quiz questions\n",
        "questions = [\n",
        "    {\"question\": \"Which library is used for deep learning in Python?\",\n",
        "     \"options\": [\"A) Scikit-learn\", \"B) TensorFlow\", \"C) Matplotlib\", \"D) Pandas\"]},\n",
        "    {\"question\": \"What is the primary purpose of a loss function?\",\n",
        "     \"options\": [\"A) To measure model performance\", \"B) To optimize hyperparameters\", \"C) To split data\", \"D) To visualize results\"]},\n",
        "    {\"question\": \"Which of the following is a supervised learning algorithm?\",\n",
        "     \"options\": [\"A) K-Means\", \"B) PCA\", \"C) Decision Tree\", \"D) Apriori\"]},\n",
        "    {\"question\": \"Which activation function is commonly used in deep learning?\",\n",
        "     \"options\": [\"A) ReLU\", \"B) Sigmoid\", \"C) Tanh\", \"D) All of the above\"]},\n",
        "    {\"question\": \"What is overfitting?\",\n",
        "     \"options\": [\"A) When a model learns noise instead of pattern\", \"B) When a model generalizes well\", \"C) When data is missing\", \"D) When training is too short\"]},\n",
        "    {\"question\": \"Which library is used for numerical computations in Python?\",\n",
        "     \"options\": [\"A) NumPy\", \"B) TensorFlow\", \"C) Pandas\", \"D) Matplotlib\"]},\n",
        "    {\"question\": \"What is the primary data structure in NumPy?\",\n",
        "     \"options\": [\"A) DataFrame\", \"B) Series\", \"C) ndarray\", \"D) List\"]},\n",
        "    {\"question\": \"Which function is used to create an array in NumPy?\",\n",
        "     \"options\": [\"A) np.array()\", \"B) np.create()\", \"C) np.new()\", \"D) np.make()\"]},\n",
        "    {\"question\": \"What does the Pandas library mainly deal with?\",\n",
        "     \"options\": [\"A) Image Processing\", \"B) Data Analysis\", \"C) Machine Learning\", \"D) Web Development\"]},\n",
        "    {\"question\": \"Which Pandas function is used to read CSV files?\",\n",
        "     \"options\": [\"A) pd.read_csv()\", \"B) pd.load_csv()\", \"C) pd.import_csv()\", \"D) pd.open_csv()\"]}\n",
        "]\n",
        "\n",
        "# Define answer key (hidden from students)\n",
        "answer_key = [\"B\", \"A\", \"C\", \"D\", \"A\"]\n",
        "\n",
        "# Conduct the quiz\n",
        "score = 0\n",
        "for i, q in enumerate(questions):\n",
        "    print(q[\"question\"])\n",
        "    random.shuffle(q[\"options\"])  # Shuffle options to make it less predictable\n",
        "    for option in q[\"options\"]:\n",
        "        print(option)\n",
        "    answer = input(\"Enter your answer (A, B, C, or D): \").strip().upper()\n",
        "    if answer == answer_key[i]:\n",
        "        score += 1\n",
        "\n",
        "# Save the result to Google Sheets\n",
        "worksheet.append_row([student_name, score])\n",
        "\n",
        "print(f\"Test completed! {student_name}, your score is {score}/{len(questions)}.\")\n"
      ]
    }
  ]
}