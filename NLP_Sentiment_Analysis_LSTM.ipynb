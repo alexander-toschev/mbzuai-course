{
  "cells": [
    {
      "cell_type": "markdown",
      "metadata": {
        "id": "view-in-github",
        "colab_type": "text"
      },
      "source": [
        "<a href=\"https://colab.research.google.com/github/alexander-toschev/mbzuai-course/blob/main/NLP_Sentiment_Analysis_LSTM.ipynb\" target=\"_parent\"><img src=\"https://colab.research.google.com/assets/colab-badge.svg\" alt=\"Open In Colab\"/></a>"
      ]
    },
    {
      "cell_type": "markdown",
      "metadata": {
        "id": "2JzAMAo5B4Fw"
      },
      "source": [
        "# **NLP Dataset Cleaning & Sentiment Analysis Using LSTM**"
      ]
    },
    {
      "cell_type": "markdown",
      "metadata": {
        "id": "bcBjNnp_B4Fz"
      },
      "source": [
        "## **1️⃣ Load and Clean Text Data**"
      ]
    },
    {
      "cell_type": "code",
      "metadata": {
        "colab": {
          "base_uri": "https://localhost:8080/"
        },
        "id": "MHHELttOB4Fz",
        "outputId": "314e769a-5c7e-45ed-98d2-300542d303dd"
      },
      "source": [
        "import pandas as pd\n",
        "import re\n",
        "import nltk\n",
        "import tensorflow as tf\n",
        "from nltk.corpus import stopwords\n",
        "from sklearn.model_selection import train_test_split\n",
        "from tensorflow.keras.preprocessing.text import Tokenizer\n",
        "from tensorflow.keras.preprocessing.sequence import pad_sequences\n",
        "\n",
        "\n",
        "# Download NLTK stopwords\n",
        "nltk.download('stopwords')\n",
        "# Load dataset\n",
        "df = pd.read_csv(\"https://raw.githubusercontent.com/dD2405/Twitter_Sentiment_Analysis/master/train.csv\")\n",
        "\n",
        "# Select relevant columns\n",
        "df = df[['label', 'tweet']]\n",
        "\n",
        "# Text Cleaning Function\n",
        "def clean_text(text):\n",
        "    text = re.sub(r'@[A-Za-z0-9]+', '', text)  # Remove mentions\n",
        "    text = re.sub(r'#[A-Za-z0-9]+', '', text)  # Remove hashtags\n",
        "    text = re.sub(r'http\\S+', '', text)  # Remove links\n",
        "    text = re.sub(r'[^a-zA-Z ]', '', text)  # Keep only letters\n",
        "    text = text.lower()  # Convert to lowercase\n",
        "    text = \" \".join([word for word in text.split() if word not in stopwords.words(\"english\")])\n",
        "    return text\n",
        "\n",
        "# Apply cleaning\n",
        "df['clean_tweet'] = df['tweet'].apply(clean_text)\n",
        "\n",
        "# Tokenize and pad sequences\n",
        "tokenizer = Tokenizer(num_words=5000)\n",
        "tokenizer.fit_on_texts(df['clean_tweet'])\n",
        "X = tokenizer.texts_to_sequences(df['clean_tweet'])\n",
        "X = pad_sequences(X, maxlen=50)\n",
        "\n",
        "# Encode labels (0 = Negative, 1 = Positive)\n",
        "y = df['label'].values\n",
        "\n",
        "# Split into training and testing data\n",
        "X_train, X_test, y_train, y_test = train_test_split(X, y, test_size=0.2, random_state=42)"
      ],
      "execution_count": 15,
      "outputs": [
        {
          "output_type": "stream",
          "name": "stderr",
          "text": [
            "[nltk_data] Downloading package stopwords to /root/nltk_data...\n",
            "[nltk_data]   Package stopwords is already up-to-date!\n"
          ]
        }
      ]
    },
    {
      "cell_type": "markdown",
      "metadata": {
        "id": "r3EHpVfjB4F0"
      },
      "source": [
        "## **2️⃣ Build and Train LSTM Model**"
      ]
    },
    {
      "cell_type": "code",
      "metadata": {
        "colab": {
          "base_uri": "https://localhost:8080/"
        },
        "id": "U2sBSd94B4F1",
        "outputId": "f8027ee1-1f92-442c-86e8-67aa2d1cc8f5"
      },
      "source": [
        "from tensorflow.keras.models import Sequential\n",
        "from tensorflow.keras.layers import Embedding, LSTM, Dense, Dropout\n",
        "\n",
        "# Define LSTM Model\n",
        "model = Sequential([\n",
        "    Embedding(input_dim=5000, output_dim=128, input_length=50),\n",
        "    LSTM(64, return_sequences=True),\n",
        "    Dropout(0.2),\n",
        "    LSTM(32),\n",
        "    Dropout(0.2),\n",
        "    Dense(1, activation='sigmoid')\n",
        "])\n",
        "\n",
        "\n",
        "# Compile Model\n",
        "model.compile(loss='binary_crossentropy', optimizer='adam', metrics=['accuracy'])\n",
        "\n",
        "# Train Model\n",
        "model.fit(X_train, y_train, epochs=5, batch_size=64, validation_data=(X_test, y_test))"
      ],
      "execution_count": 27,
      "outputs": [
        {
          "output_type": "stream",
          "name": "stdout",
          "text": [
            "Epoch 1/5\n",
            "\u001b[1m400/400\u001b[0m \u001b[32m━━━━━━━━━━━━━━━━━━━━\u001b[0m\u001b[37m\u001b[0m \u001b[1m7s\u001b[0m 11ms/step - accuracy: 0.9181 - loss: 0.2719 - val_accuracy: 0.9432 - val_loss: 0.1695\n",
            "Epoch 2/5\n",
            "\u001b[1m400/400\u001b[0m \u001b[32m━━━━━━━━━━━━━━━━━━━━\u001b[0m\u001b[37m\u001b[0m \u001b[1m4s\u001b[0m 10ms/step - accuracy: 0.9563 - loss: 0.1309 - val_accuracy: 0.9453 - val_loss: 0.1638\n",
            "Epoch 3/5\n",
            "\u001b[1m400/400\u001b[0m \u001b[32m━━━━━━━━━━━━━━━━━━━━\u001b[0m\u001b[37m\u001b[0m \u001b[1m4s\u001b[0m 10ms/step - accuracy: 0.9667 - loss: 0.0993 - val_accuracy: 0.9438 - val_loss: 0.1725\n",
            "Epoch 4/5\n",
            "\u001b[1m400/400\u001b[0m \u001b[32m━━━━━━━━━━━━━━━━━━━━\u001b[0m\u001b[37m\u001b[0m \u001b[1m4s\u001b[0m 10ms/step - accuracy: 0.9759 - loss: 0.0776 - val_accuracy: 0.9435 - val_loss: 0.1921\n",
            "Epoch 5/5\n",
            "\u001b[1m400/400\u001b[0m \u001b[32m━━━━━━━━━━━━━━━━━━━━\u001b[0m\u001b[37m\u001b[0m \u001b[1m4s\u001b[0m 10ms/step - accuracy: 0.9794 - loss: 0.0610 - val_accuracy: 0.9381 - val_loss: 0.2116\n"
          ]
        },
        {
          "output_type": "execute_result",
          "data": {
            "text/plain": [
              "<keras.src.callbacks.history.History at 0x7f3b5130b110>"
            ]
          },
          "metadata": {},
          "execution_count": 27
        }
      ]
    },
    {
      "cell_type": "markdown",
      "metadata": {
        "id": "45dH5EFmB4F1"
      },
      "source": [
        "## **3️⃣ Evaluate & Test Sentiment Analysis Model**"
      ]
    },
    {
      "cell_type": "code",
      "metadata": {
        "colab": {
          "base_uri": "https://localhost:8080/"
        },
        "id": "eed1TUp4B4F1",
        "outputId": "6ebec7b0-1262-450f-973d-cdf41685047f"
      },
      "source": [
        "# Evaluate model\n",
        "loss, accuracy = model.evaluate(X_test, y_test)\n",
        "print(f\"Test Accuracy: {accuracy:.4f}\")\n",
        "\n",
        "# Function to predict sentiment\n",
        "def predict_sentiment(text):\n",
        "    text = clean_text(text)\n",
        "    text_seq = tokenizer.texts_to_sequences([text])\n",
        "    text_pad = pad_sequences(text_seq, maxlen=50)\n",
        "    predictions = model.predict(text_pad)\n",
        "    print(predictions)\n",
        "    prediction = predictions[0][0]\n",
        "    return \"Positive\" if prediction > 0.03 else \"Negative\"\n",
        "\n",
        "# Test examples\n",
        "print(predict_sentiment(\"This is good.\"))  # Expected: Negative\n",
        "print(predict_sentiment(\"This is bad.\"))  # Expected: Negative"
      ],
      "execution_count": 28,
      "outputs": [
        {
          "output_type": "stream",
          "name": "stdout",
          "text": [
            "\u001b[1m200/200\u001b[0m \u001b[32m━━━━━━━━━━━━━━━━━━━━\u001b[0m\u001b[37m\u001b[0m \u001b[1m1s\u001b[0m 4ms/step - accuracy: 0.9376 - loss: 0.2028\n",
            "Test Accuracy: 0.9381\n",
            "\u001b[1m1/1\u001b[0m \u001b[32m━━━━━━━━━━━━━━━━━━━━\u001b[0m\u001b[37m\u001b[0m \u001b[1m0s\u001b[0m 189ms/step\n",
            "[[0.06657148]]\n",
            "Positive\n",
            "\u001b[1m1/1\u001b[0m \u001b[32m━━━━━━━━━━━━━━━━━━━━\u001b[0m\u001b[37m\u001b[0m \u001b[1m0s\u001b[0m 35ms/step\n",
            "[[0.02833427]]\n",
            "Negative\n"
          ]
        }
      ]
    },
    {
      "cell_type": "markdown",
      "metadata": {
        "id": "WJM5lmT7B4F1"
      },
      "source": [
        "## **🎯 Lab Summary**✅ Cleaned and preprocessed real-world tweets.✅ Tokenized and padded text sequences for LSTM input.✅ Built a **deep learning-based LSTM sentiment classifier**.✅ Evaluated and tested on **real examples**."
      ]
    }
  ],
  "metadata": {
    "kernelspec": {
      "display_name": "Python 3",
      "name": "python3"
    },
    "language_info": {
      "codemirror_mode": {
        "name": "ipython",
        "version": 3
      },
      "file_extension": ".py",
      "mimetype": "text/x-python",
      "name": "python",
      "nbconvert_exporter": "python",
      "pygments_lexer": "ipython3",
      "version": "3.8.10"
    },
    "colab": {
      "provenance": [],
      "machine_shape": "hm",
      "gpuType": "L4",
      "include_colab_link": true
    },
    "accelerator": "GPU"
  },
  "nbformat": 4,
  "nbformat_minor": 0
}