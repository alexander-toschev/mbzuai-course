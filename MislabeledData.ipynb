{
  "nbformat": 4,
  "nbformat_minor": 0,
  "metadata": {
    "colab": {
      "provenance": [],
      "gpuType": "T4",
      "authorship_tag": "ABX9TyNR+QOKpNUeKYYR3BO1X7J5",
      "include_colab_link": true
    },
    "kernelspec": {
      "name": "python3",
      "display_name": "Python 3"
    },
    "language_info": {
      "name": "python"
    },
    "accelerator": "GPU"
  },
  "cells": [
    {
      "cell_type": "markdown",
      "metadata": {
        "id": "view-in-github",
        "colab_type": "text"
      },
      "source": [
        "<a href=\"https://colab.research.google.com/github/alexander-toschev/mbzuai-course/blob/main/MislabeledData.ipynb\" target=\"_parent\"><img src=\"https://colab.research.google.com/assets/colab-badge.svg\" alt=\"Open In Colab\"/></a>"
      ]
    },
    {
      "cell_type": "code",
      "source": [
        "\n",
        "import tensorflow as tf\n",
        "# Enable GPU acceleration BEFORE other TensorFlow operations\n",
        "physical_devices = tf.config.experimental.list_physical_devices('GPU')\n",
        "if physical_devices:\n",
        "    tf.config.experimental.set_memory_growth(physical_devices[0], True)\n",
        "    print(\"GPU acceleration enabled\")\n",
        "else:\n",
        "    print(\"No GPU found, running on CPU\")"
      ],
      "metadata": {
        "id": "MJeapomKLOIn"
      },
      "execution_count": null,
      "outputs": []
    },
    {
      "cell_type": "code",
      "execution_count": 7,
      "metadata": {
        "colab": {
          "base_uri": "https://localhost:8080/",
          "height": 1000
        },
        "id": "uTuBkPZMITbZ",
        "outputId": "97dd1680-e556-4e6d-f7dd-5bc2dc2c8236"
      },
      "outputs": [
        {
          "output_type": "display_data",
          "data": {
            "text/plain": [
              "<Figure size 1000x500 with 10 Axes>"
            ],
            "image/png": "[encoded data removed]"
          },
          "metadata": {}
        },
        {
          "output_type": "stream",
          "name": "stdout",
          "text": [
            "Original Sentiment Labels (First 10): [1 0 0 1 0 0 1 0 1 0]\n",
            "Mislabeled Sentiment Labels (First 10): [1 0 1 1 0 0 1 1 1 0]\n"
          ]
        },
        {
          "output_type": "stream",
          "name": "stderr",
          "text": [
            "/usr/local/lib/python3.11/dist-packages/keras/src/layers/reshaping/flatten.py:37: UserWarning: Do not pass an `input_shape`/`input_dim` argument to a layer. When using Sequential models, prefer using an `Input(shape)` object as the first layer in the model instead.\n",
            "  super().__init__(**kwargs)\n"
          ]
        },
        {
          "output_type": "stream",
          "name": "stdout",
          "text": [
            "Fit MNIST on clean labels...\n",
            "Epoch 1/5\n",
            "\u001b[1m1875/1875\u001b[0m \u001b[32m━━━━━━━━━━━━━━━━━━━━\u001b[0m\u001b[37m\u001b[0m \u001b[1m6s\u001b[0m 3ms/step - accuracy: 0.8129 - loss: 7.7152 - val_accuracy: 0.8787 - val_loss: 0.5351\n",
            "Epoch 2/5\n",
            "\u001b[1m1875/1875\u001b[0m \u001b[32m━━━━━━━━━━━━━━━━━━━━\u001b[0m\u001b[37m\u001b[0m \u001b[1m5s\u001b[0m 3ms/step - accuracy: 0.8938 - loss: 0.4622 - val_accuracy: 0.9173 - val_loss: 0.3692\n",
            "Epoch 3/5\n",
            "\u001b[1m1875/1875\u001b[0m \u001b[32m━━━━━━━━━━━━━━━━━━━━\u001b[0m\u001b[37m\u001b[0m \u001b[1m5s\u001b[0m 3ms/step - accuracy: 0.9219 - loss: 0.3094 - val_accuracy: 0.9363 - val_loss: 0.2670\n",
            "Epoch 4/5\n",
            "\u001b[1m1875/1875\u001b[0m \u001b[32m━━━━━━━━━━━━━━━━━━━━\u001b[0m\u001b[37m\u001b[0m \u001b[1m5s\u001b[0m 3ms/step - accuracy: 0.9387 - loss: 0.2355 - val_accuracy: 0.9388 - val_loss: 0.2885\n",
            "Epoch 5/5\n",
            "\u001b[1m1875/1875\u001b[0m \u001b[32m━━━━━━━━━━━━━━━━━━━━\u001b[0m\u001b[37m\u001b[0m \u001b[1m6s\u001b[0m 3ms/step - accuracy: 0.9438 - loss: 0.2164 - val_accuracy: 0.9418 - val_loss: 0.2632\n",
            "Clean Test Accuracy: 0.9418\n",
            "Epoch 1/5\n",
            "\u001b[1m1875/1875\u001b[0m \u001b[32m━━━━━━━━━━━━━━━━━━━━\u001b[0m\u001b[37m\u001b[0m \u001b[1m5s\u001b[0m 3ms/step - accuracy: 0.6267 - loss: 1.6740 - val_accuracy: 0.9063 - val_loss: 0.5286\n",
            "Epoch 2/5\n",
            "\u001b[1m1875/1875\u001b[0m \u001b[32m━━━━━━━━━━━━━━━━━━━━\u001b[0m\u001b[37m\u001b[0m \u001b[1m5s\u001b[0m 3ms/step - accuracy: 0.7193 - loss: 1.2569 - val_accuracy: 0.9063 - val_loss: 0.4869\n",
            "Epoch 3/5\n",
            "\u001b[1m1875/1875\u001b[0m \u001b[32m━━━━━━━━━━━━━━━━━━━━\u001b[0m\u001b[37m\u001b[0m \u001b[1m10s\u001b[0m 3ms/step - accuracy: 0.7194 - loss: 1.2454 - val_accuracy: 0.9101 - val_loss: 0.4595\n",
            "Epoch 4/5\n",
            "\u001b[1m1875/1875\u001b[0m \u001b[32m━━━━━━━━━━━━━━━━━━━━\u001b[0m\u001b[37m\u001b[0m \u001b[1m10s\u001b[0m 3ms/step - accuracy: 0.7258 - loss: 1.2272 - val_accuracy: 0.8991 - val_loss: 0.5723\n",
            "Epoch 5/5\n",
            "\u001b[1m1875/1875\u001b[0m \u001b[32m━━━━━━━━━━━━━━━━━━━━\u001b[0m\u001b[37m\u001b[0m \u001b[1m6s\u001b[0m 3ms/step - accuracy: 0.7284 - loss: 1.2119 - val_accuracy: 0.8986 - val_loss: 0.5771\n",
            "Evaluating MNIST on mislabeled data...\n",
            "Mislabeled Test Accuracy: 0.8986\n",
            "Evaluating IMDB on clean labels...\n"
          ]
        },
        {
          "output_type": "stream",
          "name": "stderr",
          "text": [
            "/usr/local/lib/python3.11/dist-packages/keras/src/layers/core/embedding.py:90: UserWarning: Argument `input_length` is deprecated. Just remove it.\n",
            "  warnings.warn(\n"
          ]
        },
        {
          "output_type": "stream",
          "name": "stdout",
          "text": [
            "Epoch 1/5\n",
            "\u001b[1m782/782\u001b[0m \u001b[32m━━━━━━━━━━━━━━━━━━━━\u001b[0m\u001b[37m\u001b[0m \u001b[1m6s\u001b[0m 5ms/step - accuracy: 0.6991 - loss: 0.5860 - val_accuracy: 0.8570 - val_loss: 0.3318\n",
            "Epoch 2/5\n",
            "\u001b[1m782/782\u001b[0m \u001b[32m━━━━━━━━━━━━━━━━━━━━\u001b[0m\u001b[37m\u001b[0m \u001b[1m5s\u001b[0m 6ms/step - accuracy: 0.8820 - loss: 0.2829 - val_accuracy: 0.8726 - val_loss: 0.2959\n",
            "Epoch 3/5\n",
            "\u001b[1m782/782\u001b[0m \u001b[32m━━━━━━━━━━━━━━━━━━━━\u001b[0m\u001b[37m\u001b[0m \u001b[1m3s\u001b[0m 4ms/step - accuracy: 0.9143 - loss: 0.2193 - val_accuracy: 0.8759 - val_loss: 0.2930\n",
            "Epoch 4/5\n",
            "\u001b[1m782/782\u001b[0m \u001b[32m━━━━━━━━━━━━━━━━━━━━\u001b[0m\u001b[37m\u001b[0m \u001b[1m3s\u001b[0m 4ms/step - accuracy: 0.9318 - loss: 0.1844 - val_accuracy: 0.8532 - val_loss: 0.3532\n",
            "Epoch 5/5\n",
            "\u001b[1m782/782\u001b[0m \u001b[32m━━━━━━━━━━━━━━━━━━━━\u001b[0m\u001b[37m\u001b[0m \u001b[1m5s\u001b[0m 4ms/step - accuracy: 0.9388 - loss: 0.1646 - val_accuracy: 0.8698 - val_loss: 0.3245\n",
            "Clean Test Accuracy: 0.8698\n",
            "Epoch 1/5\n",
            "\u001b[1m782/782\u001b[0m \u001b[32m━━━━━━━━━━━━━━━━━━━━\u001b[0m\u001b[37m\u001b[0m \u001b[1m3s\u001b[0m 4ms/step - accuracy: 0.7593 - loss: 0.6757 - val_accuracy: 0.8546 - val_loss: 0.4044\n",
            "Epoch 2/5\n",
            "\u001b[1m782/782\u001b[0m \u001b[32m━━━━━━━━━━━━━━━━━━━━\u001b[0m\u001b[37m\u001b[0m \u001b[1m6s\u001b[0m 6ms/step - accuracy: 0.7682 - loss: 0.5409 - val_accuracy: 0.8584 - val_loss: 0.4109\n",
            "Epoch 3/5\n",
            "\u001b[1m782/782\u001b[0m \u001b[32m━━━━━━━━━━━━━━━━━━━━\u001b[0m\u001b[37m\u001b[0m \u001b[1m3s\u001b[0m 4ms/step - accuracy: 0.7782 - loss: 0.5217 - val_accuracy: 0.8521 - val_loss: 0.4060\n",
            "Epoch 4/5\n",
            "\u001b[1m782/782\u001b[0m \u001b[32m━━━━━━━━━━━━━━━━━━━━\u001b[0m\u001b[37m\u001b[0m \u001b[1m6s\u001b[0m 5ms/step - accuracy: 0.7845 - loss: 0.5105 - val_accuracy: 0.7844 - val_loss: 0.4608\n",
            "Epoch 5/5\n",
            "\u001b[1m782/782\u001b[0m \u001b[32m━━━━━━━━━━━━━━━━━━━━\u001b[0m\u001b[37m\u001b[0m \u001b[1m4s\u001b[0m 4ms/step - accuracy: 0.7888 - loss: 0.5000 - val_accuracy: 0.8024 - val_loss: 0.4369\n",
            "Evaluating IMDB on mislabeled data...\n",
            "Mislabeled Test Accuracy: 0.8024\n"
          ]
        }
      ],
      "source": [
        "\n",
        "\n",
        "from tensorflow import keras\n",
        "from tensorflow.keras.datasets import mnist, imdb\n",
        "from tensorflow.keras.preprocessing.sequence import pad_sequences\n",
        "import random\n",
        "\n",
        "import numpy as np\n",
        "import matplotlib.pyplot as plt\n",
        "import pandas as pd\n",
        "\n",
        "# Function to introduce mislabeling\n",
        "def introduce_mislabeling(y, percentage, num_classes):\n",
        "    num_mislabel = int(len(y) * percentage / 100)\n",
        "    mislabel_indices = np.random.choice(len(y), num_mislabel, replace=False)\n",
        "    y_mislabeled = y.copy()\n",
        "    for idx in mislabel_indices:\n",
        "        original_label = y[idx]\n",
        "        new_label = np.random.choice([l for l in range(num_classes) if l != original_label])\n",
        "        y_mislabeled[idx] = new_label\n",
        "    return y_mislabeled, mislabel_indices\n",
        "\n",
        "# Load and modify MNIST dataset\n",
        "(x_train_mnist, y_train_mnist), (x_test_mnist, y_test_mnist) = mnist.load_data()\n",
        "y_train_mislabeled_mnist, mislabel_indices_mnist = introduce_mislabeling(y_train_mnist, 20, 10)\n",
        "\n",
        "# Show some original vs mislabeled MNIST examples\n",
        "fig, axes = plt.subplots(2, 5, figsize=(10, 5))\n",
        "for i, ax in enumerate(axes.flat):\n",
        "    idx = mislabel_indices_mnist[i]\n",
        "    # Use x_train_mnist instead of x_train for MNIST data\n",
        "    ax.imshow(x_train_mnist[idx], cmap='gray')\n",
        "    # Use y_train_mnist and y_train_mislabeled_mnist for MNIST labels\n",
        "    ax.set_title(f\"True: {y_train_mnist[idx]}, Mislabeled: {y_train_mislabeled_mnist[idx]}\")\n",
        "    ax.axis('off')\n",
        "plt.show()\n",
        "\n",
        "# Load and modify IMDB dataset\n",
        "num_words = 10000  # Only consider top 10,000 words\n",
        "max_len = 200  # Limit the number of words per review\n",
        "\n",
        "(x_train_imdb, y_train_imdb), (x_test_imdb, y_test_imdb) = imdb.load_data(num_words=num_words)\n",
        "x_train_imdb = pad_sequences(x_train_imdb, maxlen=max_len)\n",
        "y_train_mislabeled_imdb, mislabel_indices_imdb = introduce_mislabeling(y_train_imdb, 20, 2)\n",
        "\n",
        "\n",
        "\n",
        "# Show some original vs mislabeled IMDB examples\n",
        "print(\"Original Sentiment Labels (First 10):\", y_train[:10])\n",
        "print(\"Mislabeled Sentiment Labels (First 10):\", y_train_mislabeled[:10])\n",
        "\n",
        "# Simple model for MNIST\n",
        "with tf.device('/GPU:0'):\n",
        "    model_mnist = keras.Sequential([\n",
        "        keras.layers.Flatten(input_shape=(28, 28)),\n",
        "        keras.layers.Dense(128, activation='relu'),\n",
        "        keras.layers.Dense(10, activation='softmax')\n",
        "    ])\n",
        "    model_mnist.compile(optimizer='adam', loss='sparse_categorical_crossentropy', metrics=['accuracy'])\n",
        "\n",
        "    # Evaluate before mislabeling\n",
        "    print(\"Fit MNIST on clean labels...\")\n",
        "    # Use the correct MNIST test data\n",
        "    model_mnist.fit(x_train_mnist, y_train_mnist, epochs=5, validation_data=(x_test_mnist, y_test_mnist))\n",
        "    score_clean = model_mnist.evaluate(x_test_mnist, y_test_mnist, verbose=0)\n",
        "    print(f\"Clean Test Accuracy: {score_clean[1]:.4f}\")\n",
        "\n",
        "    # Train and evaluate on mislabeled data\n",
        "    model_mnist.fit(x_train_mnist, y_train_mislabeled_mnist, epochs=5, validation_data=(x_test_mnist, y_test_mnist))\n",
        "    print(\"Evaluating MNIST on mislabeled data...\")\n",
        "    score_mislabeled = model_mnist.evaluate(x_test_mnist, y_test_mnist, verbose=0)\n",
        "    print(f\"Mislabeled Test Accuracy: {score_mislabeled[1]:.4f}\")\n",
        "\n",
        "# Simple model for IMDB sentiment analysis\n",
        "with tf.device('/GPU:0'):\n",
        "    model_imdb = keras.Sequential([\n",
        "        keras.layers.Embedding(num_words, 32, input_length=max_len),\n",
        "        keras.layers.GlobalAveragePooling1D(),\n",
        "        keras.layers.Dense(16, activation='relu'),\n",
        "        keras.layers.Dense(1, activation='sigmoid')\n",
        "    ])\n",
        "    model_imdb.compile(optimizer='adam', loss='binary_crossentropy', metrics=['accuracy'])\n",
        "\n",
        "    # Evaluate before mislabeling\n",
        "    print(\"Evaluating IMDB on clean labels...\")\n",
        "    model_imdb.fit(x_train, y_train, epochs=5, validation_data=(pad_sequences(x_test, maxlen=max_len), y_test))\n",
        "\n",
        "    score_clean_imdb = model_imdb.evaluate(pad_sequences(x_test, maxlen=max_len), y_test, verbose=0)\n",
        "    print(f\"Clean Test Accuracy: {score_clean_imdb[1]:.4f}\")\n",
        "\n",
        "    # Train and evaluate on mislabeled data\n",
        "    model_imdb.fit(x_train, y_train_mislabeled, epochs=5, validation_data=(pad_sequences(x_test, maxlen=max_len), y_test))\n",
        "    print(\"Evaluating IMDB on mislabeled data...\")\n",
        "    score_mislabeled_imdb = model_imdb.evaluate(pad_sequences(x_test, maxlen=max_len), y_test, verbose=0)\n",
        "    print(f\"Mislabeled Test Accuracy: {score_mislabeled_imdb[1]:.4f}\")"
      ]
    }
  ]
}